{
  "cells": [
    {
      "metadata": {
        "id": "Unq5OELEjsmk"
      },
      "cell_type": "markdown",
      "source": [
        "# Exercises\n",
        "\n",
        "We have prepared five exercises in this chapter:\n",
        "\n",
        "1. Modify the HCM code to work for three groups. This exercise can be divded into four tasks:\n",
        "    - modify the parameters,\n",
        "    - modify the calculate_u function,\n",
        "    - execute the clustering,\n",
        "    - plot the results.\n",
        "2. For density clustering, plot the feature space with all element marked with different color, depending on the cluster that it's assigned to. You should do the following tasks:\n",
        "    - fill the get_color method,\n",
        "    - fill the plot code.\n",
        "3. Build a method that plot baed on dendrograms_history and pydot, a dendrogram for the divisive clustering method. You should base on agglomerative method, but keep in mind that it works top-down instead of bottom-up. This exercise need just one function to be implemented:\n",
        "    - show_tree_divisive.\n",
        "    You should loop over the dendrogram_history variable and loop over childs.\n",
        "4. Implement the $s_{2}$ metric\n",
        "5. Draw the borders between clusters in the output image (for 5.0 grade)"
      ]
    },
    {
      "metadata": {
        "id": "abaIu8nIjsml"
      },
      "cell_type": "markdown",
      "source": [
        "## Libraries\n",
        "\n",
        "To solve the exercises, we need the following libraries to load in the first place.\n"
      ]
    },
    {
      "metadata": {
        "id": "mD4U08VTjsml"
      },
      "cell_type": "code",
      "outputs": [],
      "execution_count": 3,
      "source": [
        "import numpy\n",
        "import random\n",
        "import numpy as np\n",
        "import pandas as pd\n",
        "from math import sqrt\n",
        "\n",
        "import matplotlib.image as img\n",
        "\n",
        "from matplotlib import pyplot as plt\n",
        "from mpl_toolkits.mplot3d import Axes3D\n",
        "\n",
        "from IPython.display import Image"
      ]
    },
    {
      "cell_type": "markdown",
      "metadata": {
        "id": "EFAxzWfHjsmm"
      },
      "source": [
        "## Exercise 1: Modify the HCM code to work for three groups\n",
        "\n",
        "The obvious part is the variable ```groups```, but the most changes needs to be done here:"
      ]
    },
    {
      "cell_type": "code",
      "execution_count": 4,
      "metadata": {
        "id": "VXd87cyzjsmm"
      },
      "outputs": [],
      "source": [
        "%store -r data_set\n",
        "\n",
        "groups = 3\n",
        "\n",
        "error_margin = 0.01\n",
        "m=2\n",
        "assignation=np.zeros((len(data_set),groups))\n",
        "\n",
        "centers = np.array([[0.01229673, 0.25183492],\n",
        "       [0.3689626 , 0.61904127],\n",
        "       [0.95732769, 0.45059586]])\n",
        "\n",
        "def calculate_distance(x,v):\n",
        "    return sqrt(np.sum((np.array(x)-np.array(v))**2))\n",
        "\n",
        "def calculate_new_centers(u):\n",
        "    new_centers=[]\n",
        "    for c in range(groups):\n",
        "        u_x_vector=np.zeros(2)\n",
        "        u_scalar=0.0\n",
        "        for i in range(len(data_set)):\n",
        "            u_scalar = u_scalar+(u[i][c]**m)\n",
        "            u_x_vector=np.add(u_x_vector,np.multiply(u[i][c]**m,data_set[i]))\n",
        "        new_centers.append(np.divide(u_x_vector,u_scalar))\n",
        "    return new_centers\n",
        "\n",
        "def calculate_differences(new_assignation, assignation):\n",
        "    return np.sum(np.abs(np.subtract(assignation,new_assignation)))\n",
        "\n",
        "def cluster_hcm(assignation,centers):\n",
        "    difference_limit_not_achieved=True\n",
        "    new_centers = centers\n",
        "    iter=0\n",
        "    while difference_limit_not_achieved:\n",
        "        new_assignation=[]\n",
        "        for i in range(len(data_set)):\n",
        "            new_assignation.append(calculate_u_three(data_set[i]))\n",
        "        new_centers = calculate_new_centers(new_assignation)\n",
        "        if iter>0:\n",
        "            if calculate_differences(new_assignation, assignation) < error_margin:\n",
        "                difference_limit_not_achieved=False\n",
        "        assignation=new_assignation\n",
        "        iter=iter+1\n",
        "    return new_assignation, new_centers"
      ]
    },
    {
      "cell_type": "markdown",
      "metadata": {
        "id": "z0iIq6FUjsmm"
      },
      "source": [
        "### Modify the ``calculate_u`` function\n",
        "\n",
        "Fill the gap below to make the function working for more groups than two. The goal here is to calculate the distance between ``x`` and the center of a given group and append the value to ``minimal_distance``."
      ]
    },
    {
      "cell_type": "code",
      "execution_count": 5,
      "metadata": {
        "id": "u7qkHhHdjsmm"
      },
      "outputs": [],
      "source": [
        "def calculate_u_three(x):\n",
        "    u_array = np.zeros(groups)\n",
        "    minimal_distance = []\n",
        "    for group in range(groups):\n",
        "        minimal_distance.append(calculate_distance(x, centers[group]))\n",
        "    min_group_id = np.argmin(minimal_distance)\n",
        "    u_array[min_group_id] = 1\n",
        "    return u_array"
      ]
    },
    {
      "cell_type": "markdown",
      "metadata": {
        "id": "HWmFPf4jjsmm"
      },
      "source": [
        "### Execute the clustering\n",
        "\n",
        "As in the previous example we need to cluster it."
      ]
    },
    {
      "cell_type": "code",
      "execution_count": 6,
      "metadata": {
        "colab": {
          "base_uri": "https://localhost:8080/",
          "height": 143
        },
        "id": "LuZcl2Iijsmn",
        "outputId": "34e57e74-47da-4385-a35c-fbb17fc00349"
      },
      "outputs": [
        {
          "output_type": "execute_result",
          "data": {
            "text/plain": [
              "          0         1\n",
              "0  0.078585  0.178323\n",
              "1  0.496071  0.692516\n",
              "2  0.958743  0.955892"
            ],
            "text/html": [
              "\n",
              "  <div id=\"df-8da690bd-b571-4511-8f06-c9cb6e6da7d5\" class=\"colab-df-container\">\n",
              "    <div>\n",
              "<style scoped>\n",
              "    .dataframe tbody tr th:only-of-type {\n",
              "        vertical-align: middle;\n",
              "    }\n",
              "\n",
              "    .dataframe tbody tr th {\n",
              "        vertical-align: top;\n",
              "    }\n",
              "\n",
              "    .dataframe thead th {\n",
              "        text-align: right;\n",
              "    }\n",
              "</style>\n",
              "<table border=\"1\" class=\"dataframe\">\n",
              "  <thead>\n",
              "    <tr style=\"text-align: right;\">\n",
              "      <th></th>\n",
              "      <th>0</th>\n",
              "      <th>1</th>\n",
              "    </tr>\n",
              "  </thead>\n",
              "  <tbody>\n",
              "    <tr>\n",
              "      <th>0</th>\n",
              "      <td>0.078585</td>\n",
              "      <td>0.178323</td>\n",
              "    </tr>\n",
              "    <tr>\n",
              "      <th>1</th>\n",
              "      <td>0.496071</td>\n",
              "      <td>0.692516</td>\n",
              "    </tr>\n",
              "    <tr>\n",
              "      <th>2</th>\n",
              "      <td>0.958743</td>\n",
              "      <td>0.955892</td>\n",
              "    </tr>\n",
              "  </tbody>\n",
              "</table>\n",
              "</div>\n",
              "    <div class=\"colab-df-buttons\">\n",
              "\n",
              "  <div class=\"colab-df-container\">\n",
              "    <button class=\"colab-df-convert\" onclick=\"convertToInteractive('df-8da690bd-b571-4511-8f06-c9cb6e6da7d5')\"\n",
              "            title=\"Convert this dataframe to an interactive table.\"\n",
              "            style=\"display:none;\">\n",
              "\n",
              "  <svg xmlns=\"http://www.w3.org/2000/svg\" height=\"24px\" viewBox=\"0 -960 960 960\">\n",
              "    <path d=\"M120-120v-720h720v720H120Zm60-500h600v-160H180v160Zm220 220h160v-160H400v160Zm0 220h160v-160H400v160ZM180-400h160v-160H180v160Zm440 0h160v-160H620v160ZM180-180h160v-160H180v160Zm440 0h160v-160H620v160Z\"/>\n",
              "  </svg>\n",
              "    </button>\n",
              "\n",
              "  <style>\n",
              "    .colab-df-container {\n",
              "      display:flex;\n",
              "      gap: 12px;\n",
              "    }\n",
              "\n",
              "    .colab-df-convert {\n",
              "      background-color: #E8F0FE;\n",
              "      border: none;\n",
              "      border-radius: 50%;\n",
              "      cursor: pointer;\n",
              "      display: none;\n",
              "      fill: #1967D2;\n",
              "      height: 32px;\n",
              "      padding: 0 0 0 0;\n",
              "      width: 32px;\n",
              "    }\n",
              "\n",
              "    .colab-df-convert:hover {\n",
              "      background-color: #E2EBFA;\n",
              "      box-shadow: 0px 1px 2px rgba(60, 64, 67, 0.3), 0px 1px 3px 1px rgba(60, 64, 67, 0.15);\n",
              "      fill: #174EA6;\n",
              "    }\n",
              "\n",
              "    .colab-df-buttons div {\n",
              "      margin-bottom: 4px;\n",
              "    }\n",
              "\n",
              "    [theme=dark] .colab-df-convert {\n",
              "      background-color: #3B4455;\n",
              "      fill: #D2E3FC;\n",
              "    }\n",
              "\n",
              "    [theme=dark] .colab-df-convert:hover {\n",
              "      background-color: #434B5C;\n",
              "      box-shadow: 0px 1px 3px 1px rgba(0, 0, 0, 0.15);\n",
              "      filter: drop-shadow(0px 1px 2px rgba(0, 0, 0, 0.3));\n",
              "      fill: #FFFFFF;\n",
              "    }\n",
              "  </style>\n",
              "\n",
              "    <script>\n",
              "      const buttonEl =\n",
              "        document.querySelector('#df-8da690bd-b571-4511-8f06-c9cb6e6da7d5 button.colab-df-convert');\n",
              "      buttonEl.style.display =\n",
              "        google.colab.kernel.accessAllowed ? 'block' : 'none';\n",
              "\n",
              "      async function convertToInteractive(key) {\n",
              "        const element = document.querySelector('#df-8da690bd-b571-4511-8f06-c9cb6e6da7d5');\n",
              "        const dataTable =\n",
              "          await google.colab.kernel.invokeFunction('convertToInteractive',\n",
              "                                                    [key], {});\n",
              "        if (!dataTable) return;\n",
              "\n",
              "        const docLinkHtml = 'Like what you see? Visit the ' +\n",
              "          '<a target=\"_blank\" href=https://colab.research.google.com/notebooks/data_table.ipynb>data table notebook</a>'\n",
              "          + ' to learn more about interactive tables.';\n",
              "        element.innerHTML = '';\n",
              "        dataTable['output_type'] = 'display_data';\n",
              "        await google.colab.output.renderOutput(dataTable, element);\n",
              "        const docLink = document.createElement('div');\n",
              "        docLink.innerHTML = docLinkHtml;\n",
              "        element.appendChild(docLink);\n",
              "      }\n",
              "    </script>\n",
              "  </div>\n",
              "\n",
              "\n",
              "<div id=\"df-7ddd9c4f-11e6-4f3d-bbfe-5521a743e356\">\n",
              "  <button class=\"colab-df-quickchart\" onclick=\"quickchart('df-7ddd9c4f-11e6-4f3d-bbfe-5521a743e356')\"\n",
              "            title=\"Suggest charts\"\n",
              "            style=\"display:none;\">\n",
              "\n",
              "<svg xmlns=\"http://www.w3.org/2000/svg\" height=\"24px\"viewBox=\"0 0 24 24\"\n",
              "     width=\"24px\">\n",
              "    <g>\n",
              "        <path d=\"M19 3H5c-1.1 0-2 .9-2 2v14c0 1.1.9 2 2 2h14c1.1 0 2-.9 2-2V5c0-1.1-.9-2-2-2zM9 17H7v-7h2v7zm4 0h-2V7h2v10zm4 0h-2v-4h2v4z\"/>\n",
              "    </g>\n",
              "</svg>\n",
              "  </button>\n",
              "\n",
              "<style>\n",
              "  .colab-df-quickchart {\n",
              "      --bg-color: #E8F0FE;\n",
              "      --fill-color: #1967D2;\n",
              "      --hover-bg-color: #E2EBFA;\n",
              "      --hover-fill-color: #174EA6;\n",
              "      --disabled-fill-color: #AAA;\n",
              "      --disabled-bg-color: #DDD;\n",
              "  }\n",
              "\n",
              "  [theme=dark] .colab-df-quickchart {\n",
              "      --bg-color: #3B4455;\n",
              "      --fill-color: #D2E3FC;\n",
              "      --hover-bg-color: #434B5C;\n",
              "      --hover-fill-color: #FFFFFF;\n",
              "      --disabled-bg-color: #3B4455;\n",
              "      --disabled-fill-color: #666;\n",
              "  }\n",
              "\n",
              "  .colab-df-quickchart {\n",
              "    background-color: var(--bg-color);\n",
              "    border: none;\n",
              "    border-radius: 50%;\n",
              "    cursor: pointer;\n",
              "    display: none;\n",
              "    fill: var(--fill-color);\n",
              "    height: 32px;\n",
              "    padding: 0;\n",
              "    width: 32px;\n",
              "  }\n",
              "\n",
              "  .colab-df-quickchart:hover {\n",
              "    background-color: var(--hover-bg-color);\n",
              "    box-shadow: 0 1px 2px rgba(60, 64, 67, 0.3), 0 1px 3px 1px rgba(60, 64, 67, 0.15);\n",
              "    fill: var(--button-hover-fill-color);\n",
              "  }\n",
              "\n",
              "  .colab-df-quickchart-complete:disabled,\n",
              "  .colab-df-quickchart-complete:disabled:hover {\n",
              "    background-color: var(--disabled-bg-color);\n",
              "    fill: var(--disabled-fill-color);\n",
              "    box-shadow: none;\n",
              "  }\n",
              "\n",
              "  .colab-df-spinner {\n",
              "    border: 2px solid var(--fill-color);\n",
              "    border-color: transparent;\n",
              "    border-bottom-color: var(--fill-color);\n",
              "    animation:\n",
              "      spin 1s steps(1) infinite;\n",
              "  }\n",
              "\n",
              "  @keyframes spin {\n",
              "    0% {\n",
              "      border-color: transparent;\n",
              "      border-bottom-color: var(--fill-color);\n",
              "      border-left-color: var(--fill-color);\n",
              "    }\n",
              "    20% {\n",
              "      border-color: transparent;\n",
              "      border-left-color: var(--fill-color);\n",
              "      border-top-color: var(--fill-color);\n",
              "    }\n",
              "    30% {\n",
              "      border-color: transparent;\n",
              "      border-left-color: var(--fill-color);\n",
              "      border-top-color: var(--fill-color);\n",
              "      border-right-color: var(--fill-color);\n",
              "    }\n",
              "    40% {\n",
              "      border-color: transparent;\n",
              "      border-right-color: var(--fill-color);\n",
              "      border-top-color: var(--fill-color);\n",
              "    }\n",
              "    60% {\n",
              "      border-color: transparent;\n",
              "      border-right-color: var(--fill-color);\n",
              "    }\n",
              "    80% {\n",
              "      border-color: transparent;\n",
              "      border-right-color: var(--fill-color);\n",
              "      border-bottom-color: var(--fill-color);\n",
              "    }\n",
              "    90% {\n",
              "      border-color: transparent;\n",
              "      border-bottom-color: var(--fill-color);\n",
              "    }\n",
              "  }\n",
              "</style>\n",
              "\n",
              "  <script>\n",
              "    async function quickchart(key) {\n",
              "      const quickchartButtonEl =\n",
              "        document.querySelector('#' + key + ' button');\n",
              "      quickchartButtonEl.disabled = true;  // To prevent multiple clicks.\n",
              "      quickchartButtonEl.classList.add('colab-df-spinner');\n",
              "      try {\n",
              "        const charts = await google.colab.kernel.invokeFunction(\n",
              "            'suggestCharts', [key], {});\n",
              "      } catch (error) {\n",
              "        console.error('Error during call to suggestCharts:', error);\n",
              "      }\n",
              "      quickchartButtonEl.classList.remove('colab-df-spinner');\n",
              "      quickchartButtonEl.classList.add('colab-df-quickchart-complete');\n",
              "    }\n",
              "    (() => {\n",
              "      let quickchartButtonEl =\n",
              "        document.querySelector('#df-7ddd9c4f-11e6-4f3d-bbfe-5521a743e356 button');\n",
              "      quickchartButtonEl.style.display =\n",
              "        google.colab.kernel.accessAllowed ? 'block' : 'none';\n",
              "    })();\n",
              "  </script>\n",
              "</div>\n",
              "\n",
              "    </div>\n",
              "  </div>\n"
            ],
            "application/vnd.google.colaboratory.intrinsic+json": {
              "type": "dataframe",
              "summary": "{\n  \"name\": \"pd\",\n  \"rows\": 3,\n  \"fields\": [\n    {\n      \"column\": 0,\n      \"properties\": {\n        \"dtype\": \"number\",\n        \"std\": 0.4402718638391361,\n        \"min\": 0.07858546168958742,\n        \"max\": 0.9587426326129667,\n        \"num_unique_values\": 3,\n        \"samples\": [\n          0.07858546168958742,\n          0.4960707269155207,\n          0.9587426326129667\n        ],\n        \"semantic_type\": \"\",\n        \"description\": \"\"\n      }\n    },\n    {\n      \"column\": 1,\n      \"properties\": {\n        \"dtype\": \"number\",\n        \"std\": 0.39546913409163925,\n        \"min\": 0.17832271762208066,\n        \"max\": 0.9558917197452229,\n        \"num_unique_values\": 3,\n        \"samples\": [\n          0.17832271762208066,\n          0.692515923566879,\n          0.9558917197452229\n        ],\n        \"semantic_type\": \"\",\n        \"description\": \"\"\n      }\n    }\n  ]\n}"
            }
          },
          "metadata": {},
          "execution_count": 6
        }
      ],
      "source": [
        "new_assignation_hcm3, new_centers_hcm3 = cluster_hcm(assignation, centers)\n",
        "pd.DataFrame(new_centers_hcm3)"
      ]
    },
    {
      "cell_type": "code",
      "execution_count": 7,
      "metadata": {
        "colab": {
          "base_uri": "https://localhost:8080/",
          "height": 363
        },
        "id": "QYxGIJgRjsmn",
        "outputId": "f898aecc-0164-45b7-9ee6-96b9824ffc07"
      },
      "outputs": [
        {
          "output_type": "execute_result",
          "data": {
            "text/plain": [
              "   Cluster 1  Cluster 2  Cluster 3\n",
              "0        1.0        0.0        0.0\n",
              "1        1.0        0.0        0.0\n",
              "2        1.0        0.0        0.0\n",
              "3        1.0        0.0        0.0\n",
              "4        1.0        0.0        0.0\n",
              "5        1.0        0.0        0.0\n",
              "6        0.0        0.0        1.0\n",
              "7        0.0        0.0        1.0\n",
              "8        0.0        1.0        0.0\n",
              "9        0.0        1.0        0.0"
            ],
            "text/html": [
              "\n",
              "  <div id=\"df-5b16144f-aab1-4b15-a7fd-3c8d90f13956\" class=\"colab-df-container\">\n",
              "    <div>\n",
              "<style scoped>\n",
              "    .dataframe tbody tr th:only-of-type {\n",
              "        vertical-align: middle;\n",
              "    }\n",
              "\n",
              "    .dataframe tbody tr th {\n",
              "        vertical-align: top;\n",
              "    }\n",
              "\n",
              "    .dataframe thead th {\n",
              "        text-align: right;\n",
              "    }\n",
              "</style>\n",
              "<table border=\"1\" class=\"dataframe\">\n",
              "  <thead>\n",
              "    <tr style=\"text-align: right;\">\n",
              "      <th></th>\n",
              "      <th>Cluster 1</th>\n",
              "      <th>Cluster 2</th>\n",
              "      <th>Cluster 3</th>\n",
              "    </tr>\n",
              "  </thead>\n",
              "  <tbody>\n",
              "    <tr>\n",
              "      <th>0</th>\n",
              "      <td>1.0</td>\n",
              "      <td>0.0</td>\n",
              "      <td>0.0</td>\n",
              "    </tr>\n",
              "    <tr>\n",
              "      <th>1</th>\n",
              "      <td>1.0</td>\n",
              "      <td>0.0</td>\n",
              "      <td>0.0</td>\n",
              "    </tr>\n",
              "    <tr>\n",
              "      <th>2</th>\n",
              "      <td>1.0</td>\n",
              "      <td>0.0</td>\n",
              "      <td>0.0</td>\n",
              "    </tr>\n",
              "    <tr>\n",
              "      <th>3</th>\n",
              "      <td>1.0</td>\n",
              "      <td>0.0</td>\n",
              "      <td>0.0</td>\n",
              "    </tr>\n",
              "    <tr>\n",
              "      <th>4</th>\n",
              "      <td>1.0</td>\n",
              "      <td>0.0</td>\n",
              "      <td>0.0</td>\n",
              "    </tr>\n",
              "    <tr>\n",
              "      <th>5</th>\n",
              "      <td>1.0</td>\n",
              "      <td>0.0</td>\n",
              "      <td>0.0</td>\n",
              "    </tr>\n",
              "    <tr>\n",
              "      <th>6</th>\n",
              "      <td>0.0</td>\n",
              "      <td>0.0</td>\n",
              "      <td>1.0</td>\n",
              "    </tr>\n",
              "    <tr>\n",
              "      <th>7</th>\n",
              "      <td>0.0</td>\n",
              "      <td>0.0</td>\n",
              "      <td>1.0</td>\n",
              "    </tr>\n",
              "    <tr>\n",
              "      <th>8</th>\n",
              "      <td>0.0</td>\n",
              "      <td>1.0</td>\n",
              "      <td>0.0</td>\n",
              "    </tr>\n",
              "    <tr>\n",
              "      <th>9</th>\n",
              "      <td>0.0</td>\n",
              "      <td>1.0</td>\n",
              "      <td>0.0</td>\n",
              "    </tr>\n",
              "  </tbody>\n",
              "</table>\n",
              "</div>\n",
              "    <div class=\"colab-df-buttons\">\n",
              "\n",
              "  <div class=\"colab-df-container\">\n",
              "    <button class=\"colab-df-convert\" onclick=\"convertToInteractive('df-5b16144f-aab1-4b15-a7fd-3c8d90f13956')\"\n",
              "            title=\"Convert this dataframe to an interactive table.\"\n",
              "            style=\"display:none;\">\n",
              "\n",
              "  <svg xmlns=\"http://www.w3.org/2000/svg\" height=\"24px\" viewBox=\"0 -960 960 960\">\n",
              "    <path d=\"M120-120v-720h720v720H120Zm60-500h600v-160H180v160Zm220 220h160v-160H400v160Zm0 220h160v-160H400v160ZM180-400h160v-160H180v160Zm440 0h160v-160H620v160ZM180-180h160v-160H180v160Zm440 0h160v-160H620v160Z\"/>\n",
              "  </svg>\n",
              "    </button>\n",
              "\n",
              "  <style>\n",
              "    .colab-df-container {\n",
              "      display:flex;\n",
              "      gap: 12px;\n",
              "    }\n",
              "\n",
              "    .colab-df-convert {\n",
              "      background-color: #E8F0FE;\n",
              "      border: none;\n",
              "      border-radius: 50%;\n",
              "      cursor: pointer;\n",
              "      display: none;\n",
              "      fill: #1967D2;\n",
              "      height: 32px;\n",
              "      padding: 0 0 0 0;\n",
              "      width: 32px;\n",
              "    }\n",
              "\n",
              "    .colab-df-convert:hover {\n",
              "      background-color: #E2EBFA;\n",
              "      box-shadow: 0px 1px 2px rgba(60, 64, 67, 0.3), 0px 1px 3px 1px rgba(60, 64, 67, 0.15);\n",
              "      fill: #174EA6;\n",
              "    }\n",
              "\n",
              "    .colab-df-buttons div {\n",
              "      margin-bottom: 4px;\n",
              "    }\n",
              "\n",
              "    [theme=dark] .colab-df-convert {\n",
              "      background-color: #3B4455;\n",
              "      fill: #D2E3FC;\n",
              "    }\n",
              "\n",
              "    [theme=dark] .colab-df-convert:hover {\n",
              "      background-color: #434B5C;\n",
              "      box-shadow: 0px 1px 3px 1px rgba(0, 0, 0, 0.15);\n",
              "      filter: drop-shadow(0px 1px 2px rgba(0, 0, 0, 0.3));\n",
              "      fill: #FFFFFF;\n",
              "    }\n",
              "  </style>\n",
              "\n",
              "    <script>\n",
              "      const buttonEl =\n",
              "        document.querySelector('#df-5b16144f-aab1-4b15-a7fd-3c8d90f13956 button.colab-df-convert');\n",
              "      buttonEl.style.display =\n",
              "        google.colab.kernel.accessAllowed ? 'block' : 'none';\n",
              "\n",
              "      async function convertToInteractive(key) {\n",
              "        const element = document.querySelector('#df-5b16144f-aab1-4b15-a7fd-3c8d90f13956');\n",
              "        const dataTable =\n",
              "          await google.colab.kernel.invokeFunction('convertToInteractive',\n",
              "                                                    [key], {});\n",
              "        if (!dataTable) return;\n",
              "\n",
              "        const docLinkHtml = 'Like what you see? Visit the ' +\n",
              "          '<a target=\"_blank\" href=https://colab.research.google.com/notebooks/data_table.ipynb>data table notebook</a>'\n",
              "          + ' to learn more about interactive tables.';\n",
              "        element.innerHTML = '';\n",
              "        dataTable['output_type'] = 'display_data';\n",
              "        await google.colab.output.renderOutput(dataTable, element);\n",
              "        const docLink = document.createElement('div');\n",
              "        docLink.innerHTML = docLinkHtml;\n",
              "        element.appendChild(docLink);\n",
              "      }\n",
              "    </script>\n",
              "  </div>\n",
              "\n",
              "\n",
              "<div id=\"df-1a5feddd-60e3-4c33-9184-fd31c6bb732a\">\n",
              "  <button class=\"colab-df-quickchart\" onclick=\"quickchart('df-1a5feddd-60e3-4c33-9184-fd31c6bb732a')\"\n",
              "            title=\"Suggest charts\"\n",
              "            style=\"display:none;\">\n",
              "\n",
              "<svg xmlns=\"http://www.w3.org/2000/svg\" height=\"24px\"viewBox=\"0 0 24 24\"\n",
              "     width=\"24px\">\n",
              "    <g>\n",
              "        <path d=\"M19 3H5c-1.1 0-2 .9-2 2v14c0 1.1.9 2 2 2h14c1.1 0 2-.9 2-2V5c0-1.1-.9-2-2-2zM9 17H7v-7h2v7zm4 0h-2V7h2v10zm4 0h-2v-4h2v4z\"/>\n",
              "    </g>\n",
              "</svg>\n",
              "  </button>\n",
              "\n",
              "<style>\n",
              "  .colab-df-quickchart {\n",
              "      --bg-color: #E8F0FE;\n",
              "      --fill-color: #1967D2;\n",
              "      --hover-bg-color: #E2EBFA;\n",
              "      --hover-fill-color: #174EA6;\n",
              "      --disabled-fill-color: #AAA;\n",
              "      --disabled-bg-color: #DDD;\n",
              "  }\n",
              "\n",
              "  [theme=dark] .colab-df-quickchart {\n",
              "      --bg-color: #3B4455;\n",
              "      --fill-color: #D2E3FC;\n",
              "      --hover-bg-color: #434B5C;\n",
              "      --hover-fill-color: #FFFFFF;\n",
              "      --disabled-bg-color: #3B4455;\n",
              "      --disabled-fill-color: #666;\n",
              "  }\n",
              "\n",
              "  .colab-df-quickchart {\n",
              "    background-color: var(--bg-color);\n",
              "    border: none;\n",
              "    border-radius: 50%;\n",
              "    cursor: pointer;\n",
              "    display: none;\n",
              "    fill: var(--fill-color);\n",
              "    height: 32px;\n",
              "    padding: 0;\n",
              "    width: 32px;\n",
              "  }\n",
              "\n",
              "  .colab-df-quickchart:hover {\n",
              "    background-color: var(--hover-bg-color);\n",
              "    box-shadow: 0 1px 2px rgba(60, 64, 67, 0.3), 0 1px 3px 1px rgba(60, 64, 67, 0.15);\n",
              "    fill: var(--button-hover-fill-color);\n",
              "  }\n",
              "\n",
              "  .colab-df-quickchart-complete:disabled,\n",
              "  .colab-df-quickchart-complete:disabled:hover {\n",
              "    background-color: var(--disabled-bg-color);\n",
              "    fill: var(--disabled-fill-color);\n",
              "    box-shadow: none;\n",
              "  }\n",
              "\n",
              "  .colab-df-spinner {\n",
              "    border: 2px solid var(--fill-color);\n",
              "    border-color: transparent;\n",
              "    border-bottom-color: var(--fill-color);\n",
              "    animation:\n",
              "      spin 1s steps(1) infinite;\n",
              "  }\n",
              "\n",
              "  @keyframes spin {\n",
              "    0% {\n",
              "      border-color: transparent;\n",
              "      border-bottom-color: var(--fill-color);\n",
              "      border-left-color: var(--fill-color);\n",
              "    }\n",
              "    20% {\n",
              "      border-color: transparent;\n",
              "      border-left-color: var(--fill-color);\n",
              "      border-top-color: var(--fill-color);\n",
              "    }\n",
              "    30% {\n",
              "      border-color: transparent;\n",
              "      border-left-color: var(--fill-color);\n",
              "      border-top-color: var(--fill-color);\n",
              "      border-right-color: var(--fill-color);\n",
              "    }\n",
              "    40% {\n",
              "      border-color: transparent;\n",
              "      border-right-color: var(--fill-color);\n",
              "      border-top-color: var(--fill-color);\n",
              "    }\n",
              "    60% {\n",
              "      border-color: transparent;\n",
              "      border-right-color: var(--fill-color);\n",
              "    }\n",
              "    80% {\n",
              "      border-color: transparent;\n",
              "      border-right-color: var(--fill-color);\n",
              "      border-bottom-color: var(--fill-color);\n",
              "    }\n",
              "    90% {\n",
              "      border-color: transparent;\n",
              "      border-bottom-color: var(--fill-color);\n",
              "    }\n",
              "  }\n",
              "</style>\n",
              "\n",
              "  <script>\n",
              "    async function quickchart(key) {\n",
              "      const quickchartButtonEl =\n",
              "        document.querySelector('#' + key + ' button');\n",
              "      quickchartButtonEl.disabled = true;  // To prevent multiple clicks.\n",
              "      quickchartButtonEl.classList.add('colab-df-spinner');\n",
              "      try {\n",
              "        const charts = await google.colab.kernel.invokeFunction(\n",
              "            'suggestCharts', [key], {});\n",
              "      } catch (error) {\n",
              "        console.error('Error during call to suggestCharts:', error);\n",
              "      }\n",
              "      quickchartButtonEl.classList.remove('colab-df-spinner');\n",
              "      quickchartButtonEl.classList.add('colab-df-quickchart-complete');\n",
              "    }\n",
              "    (() => {\n",
              "      let quickchartButtonEl =\n",
              "        document.querySelector('#df-1a5feddd-60e3-4c33-9184-fd31c6bb732a button');\n",
              "      quickchartButtonEl.style.display =\n",
              "        google.colab.kernel.accessAllowed ? 'block' : 'none';\n",
              "    })();\n",
              "  </script>\n",
              "</div>\n",
              "\n",
              "    </div>\n",
              "  </div>\n"
            ],
            "application/vnd.google.colaboratory.intrinsic+json": {
              "type": "dataframe",
              "summary": "{\n  \"name\": \"pd\",\n  \"rows\": 10,\n  \"fields\": [\n    {\n      \"column\": \"Cluster 1\",\n      \"properties\": {\n        \"dtype\": \"number\",\n        \"std\": 0.5163977794943222,\n        \"min\": 0.0,\n        \"max\": 1.0,\n        \"num_unique_values\": 2,\n        \"samples\": [\n          0.0,\n          1.0\n        ],\n        \"semantic_type\": \"\",\n        \"description\": \"\"\n      }\n    },\n    {\n      \"column\": \"Cluster 2\",\n      \"properties\": {\n        \"dtype\": \"number\",\n        \"std\": 0.42163702135578396,\n        \"min\": 0.0,\n        \"max\": 1.0,\n        \"num_unique_values\": 2,\n        \"samples\": [\n          1.0,\n          0.0\n        ],\n        \"semantic_type\": \"\",\n        \"description\": \"\"\n      }\n    },\n    {\n      \"column\": \"Cluster 3\",\n      \"properties\": {\n        \"dtype\": \"number\",\n        \"std\": 0.42163702135578396,\n        \"min\": 0.0,\n        \"max\": 1.0,\n        \"num_unique_values\": 2,\n        \"samples\": [\n          1.0,\n          0.0\n        ],\n        \"semantic_type\": \"\",\n        \"description\": \"\"\n      }\n    }\n  ]\n}"
            }
          },
          "metadata": {},
          "execution_count": 7
        }
      ],
      "source": [
        "pd.DataFrame(new_assignation_hcm3, columns = ['Cluster 1','Cluster 2', 'Cluster 3'])"
      ]
    },
    {
      "cell_type": "markdown",
      "metadata": {
        "id": "y-OjQxT-jsmn"
      },
      "source": [
        "### Plot the results"
      ]
    },
    {
      "cell_type": "code",
      "execution_count": 8,
      "metadata": {
        "colab": {
          "base_uri": "https://localhost:8080/",
          "height": 472
        },
        "id": "zkK8XH6Qjsmo",
        "outputId": "50172f1d-e274-4295-dd2c-1c40af3db24c"
      },
      "outputs": [
        {
          "output_type": "display_data",
          "data": {
            "text/plain": [
              "<Figure size 640x480 with 1 Axes>"
            ],
            "image/png": "[encoded data removed]"
          },
          "metadata": {}
        }
      ],
      "source": [
        "red = data_set[np.where(np.array(new_assignation_hcm3)[:,0]==1)]\n",
        "blue = data_set[np.where(np.array(new_assignation_hcm3)[:,1]==1)]\n",
        "green = data_set[np.where(np.array(new_assignation_hcm3)[:,2]==1)]\n",
        "\n",
        "fig, ax = plt.subplots()\n",
        "\n",
        "ax.scatter(blue[:,0],blue[:,1],c='blue')\n",
        "ax.scatter(red[:,0],red[:,1],c='red')\n",
        "ax.scatter(green[:,0],green[:,1],c='green')\n",
        "ax.scatter(np.array(new_centers_hcm3)[:,0],np.array(new_centers_hcm3)[:,1],c='black')\n",
        "ax.set(xlabel='Seats count', ylabel='Distance range (km)',\n",
        "       title='Aircrafts (clusters)')\n",
        "ax.grid()\n",
        "plt.show()"
      ]
    },
    {
      "cell_type": "code",
      "execution_count": 9,
      "metadata": {
        "colab": {
          "base_uri": "https://localhost:8080/",
          "height": 507
        },
        "id": "nxJjms-Qjsmo",
        "outputId": "3ad4cbe8-b13f-4d06-a668-b275ee83c19e"
      },
      "outputs": [
        {
          "output_type": "display_data",
          "data": {
            "text/plain": [
              "<Figure size 1200x500 with 2 Axes>"
            ],
            "image/png": "[encoded data removed]"
          },
          "metadata": {}
        }
      ],
      "source": [
        "# comparison to initial state\n",
        "\n",
        "fig, ax = plt.subplots(1, 2, figsize=(12,5))\n",
        "\n",
        "ax[0].scatter(data_set[:,0],data_set[:,1],c='blue')\n",
        "ax[0].set(xlabel='Seats count', ylabel='Distance range (km)',\n",
        "       title='Our data: Aircrafts (clusters)')\n",
        "ax[0].grid()\n",
        "\n",
        "ax[1].scatter(data_set[:,0],data_set[:,1],c='blue')\n",
        "ax[1].scatter(np.array(centers)[:,0],np.array(centers)[:,1],c='black')\n",
        "ax[1].set(xlabel='Seats count', ylabel='Distance range (km)',\n",
        "       title='Our data: Aircrafts (clusters) with initial centers')\n",
        "ax[1].grid()\n",
        "\n",
        "plt.tight_layout()\n",
        "plt.show()"
      ]
    },
    {
      "cell_type": "markdown",
      "metadata": {
        "id": "N4tsC_fJjsmo"
      },
      "source": [
        "## Exercise 2: Plot the density clusters\n",
        "\n",
        "Use the code below to plot the results. You can play with the max_distance variable to get more or less groups."
      ]
    },
    {
      "cell_type": "code",
      "execution_count": 10,
      "metadata": {
        "id": "o4dGDJRKjsmo"
      },
      "outputs": [],
      "source": [
        "%store -r new_assignation_density\n",
        "%store -r data_set"
      ]
    },
    {
      "cell_type": "markdown",
      "metadata": {
        "id": "DV7wv-6_jsmo"
      },
      "source": [
        "### Fill the ``get_group_objects`` method\n",
        "\n",
        "Only one line needs to be updated. The ``get_group_objects`` function should return the objects of a given group."
      ]
    },
    {
      "cell_type": "code",
      "execution_count": 11,
      "metadata": {
        "id": "ecvvyHdNjsmo"
      },
      "outputs": [],
      "source": [
        "colors = ['red','blue','green','orange','black','yellow']\n",
        "\n",
        "def get_group_objects(color_id):\n",
        "    return data_set[np.where(np.array(new_assignation_density)==color_id)]"
      ]
    },
    {
      "cell_type": "markdown",
      "metadata": {
        "id": "KuFd7fHBjsmo"
      },
      "source": [
        "### Fill the plot code\n",
        "\n",
        "If done properly the code below should return a plot of two clusters and the noise."
      ]
    },
    {
      "cell_type": "code",
      "execution_count": 13,
      "metadata": {
        "colab": {
          "base_uri": "https://localhost:8080/",
          "height": 472
        },
        "id": "WMqSGPVmjsmo",
        "outputId": "aae053d2-4067-4db4-efe2-33accdb4707b"
      },
      "outputs": [
        {
          "output_type": "display_data",
          "data": {
            "text/plain": [
              "<Figure size 640x480 with 1 Axes>"
            ],
            "image/png": "[encoded data removed]"
          },
          "metadata": {}
        }
      ],
      "source": [
        "colors = ['red','blue','green','orange','black','yellow']\n",
        "\n",
        "fig, ax = plt.subplots()\n",
        "\n",
        "assigned_groups = new_assignation_density\n",
        "for group in np.unique(assigned_groups):\n",
        "    small_set = get_group_objects(group)\n",
        "    ax.scatter(small_set[:,0],small_set[:,1],c=colors.pop(0))\n",
        "    for circle in small_set:\n",
        "        circle1 = plt.Circle((circle[0],circle[1]), 0.25, color='green', fill=False)\n",
        "        ax.add_artist(circle1)\n",
        "\n",
        "ax.set(xlabel='Seats count', ylabel='Distance range (km)',title='Aircrafts (clusters)')\n",
        "ax.grid()\n",
        "plt.show()"
      ]
    },
    {
      "cell_type": "markdown",
      "metadata": {
        "id": "OBTBLzzZjsmp"
      },
      "source": [
        "## Exercise 3: Build a dendrogram using dendrograms_history and pydot\n",
        "\n",
        "In this exercise we gonna use the variable dendrograms_history and pydot. Below we restore the variable and initialize the dendrogram graph."
      ]
    },
    {
      "cell_type": "code",
      "execution_count": 14,
      "metadata": {
        "id": "scTykhDdjsmp"
      },
      "outputs": [],
      "source": [
        "%store -r dendrogram_hist_diana"
      ]
    },
    {
      "cell_type": "markdown",
      "metadata": {
        "id": "YJp_dw45jsmp"
      },
      "source": [
        "### Fill ``show_tree_divisive`` function\n",
        "\n",
        "The function show_tree_divisive goes through each child node and build and edge between."
      ]
    },
    {
      "cell_type": "code",
      "execution_count": 15,
      "metadata": {
        "id": "zYVL8EfIjsmp"
      },
      "outputs": [],
      "source": [
        "import pydot\n",
        "tree = pydot.Dot(graph_type='graph')"
      ]
    },
    {
      "cell_type": "code",
      "execution_count": 16,
      "metadata": {
        "id": "cK-UkQKgjsmp"
      },
      "outputs": [],
      "source": [
        "def show_tree_divisive():\n",
        "    for item in dendrogram_hist_diana:\n",
        "        for child in item[0][\"childs\"]:\n",
        "            new_edge = pydot.Edge(str(item[0][\"acesor\"]),str(child))\n",
        "            tree.add_edge(new_edge)\n",
        "    tree.write('tree_diana.png',format='png')\n",
        "\n",
        "show_tree_divisive()"
      ]
    },
    {
      "cell_type": "markdown",
      "metadata": {
        "id": "JQNCgmkCjsmp"
      },
      "source": [
        "Take a look if you did it properly:"
      ]
    },
    {
      "cell_type": "code",
      "execution_count": 17,
      "metadata": {
        "colab": {
          "base_uri": "https://localhost:8080/",
          "height": 556
        },
        "id": "rOxudkOtjsmp",
        "outputId": "05014100-9f23-40a1-9443-4d91034ea342"
      },
      "outputs": [
        {
          "output_type": "execute_result",
          "data": {
            "image/png": "[encoded data removed]",
            "text/plain": [
              "<IPython.core.display.Image object>"
            ]
          },
          "metadata": {},
          "execution_count": 17
        }
      ],
      "source": [
        "from IPython.display import Image\n",
        "Image(filename='tree_diana.png')"
      ]
    },
    {
      "cell_type": "markdown",
      "metadata": {
        "id": "nheaw7S3jsmp"
      },
      "source": [
        "## Exercise 4: Implement the $s_{2}$ metric\n",
        "\n",
        "The $s_{2}$ metric gives a better understanding of the distances between centers.\n",
        "\n",
        "\\begin{equation}\n",
        " s_{2}(c_{i},c_{j})=d(c_{i},c_{j}).\n",
        "\\end{equation}\n",
        "\n",
        "Let's restore the centers from HCM grouped by two and initialize the values for three groups as below."
      ]
    },
    {
      "cell_type": "code",
      "execution_count": 18,
      "metadata": {
        "id": "b2-6Q8TIjsmp"
      },
      "outputs": [],
      "source": [
        "%store -r new_centers_hcm\n",
        "\n",
        "new_centers_hcm = np.array(new_centers_hcm)\n",
        "new_centers_hcm3 = np.array([[0.42239686, 0.38503185],[0.07858546, 0.17832272],[0.82907662, 0.97059448]])"
      ]
    },
    {
      "cell_type": "markdown",
      "metadata": {
        "id": "YxBHreLmjsmp"
      },
      "source": [
        "Measure the distance between each center."
      ]
    },
    {
      "cell_type": "code",
      "execution_count": 19,
      "metadata": {
        "id": "nBcfTHrhjsmq"
      },
      "outputs": [],
      "source": [
        "def calculate_s_2(centers):\n",
        "    s2 = []\n",
        "    for center_1 in range(len(centers)):\n",
        "        for center_2 in range(len(centers)):\n",
        "            if center_1 == center_2:\n",
        "                break\n",
        "            s2.append(calculate_distance(centers[center_1], centers[center_2]))\n",
        "    return s2"
      ]
    },
    {
      "cell_type": "markdown",
      "metadata": {
        "id": "sUMrIEI_jsmq"
      },
      "source": [
        "## Exercise 5: Modify the output image with borders between clusters\n",
        "\n",
        "We use the ``Segmentation`` class as in previous example."
      ]
    },
    {
      "cell_type": "code",
      "source": [
        "from PIL import Image"
      ],
      "metadata": {
        "id": "lEyBkRRmJ4tY"
      },
      "execution_count": 20,
      "outputs": []
    },
    {
      "cell_type": "code",
      "execution_count": 21,
      "metadata": {
        "id": "7Hyh7BBgjsmq"
      },
      "outputs": [],
      "source": [
        "class Segmentation:\n",
        "\n",
        "    def __init__(self, feature_matrix, groups):\n",
        "        self.__data_set = feature_matrix\n",
        "        self.__groups = groups\n",
        "        self.__space=[[0, 255], [0, 255], [0, 255]]\n",
        "        self.__error_margin = 0.5\n",
        "        self.assignation = np.zeros((len(self.__data_set), self.__groups))\n",
        "        self.centers = []\n",
        "        self.select_centers()\n",
        "\n",
        "    def select_centers(self):\n",
        "        if len(self.centers) == 0:\n",
        "            iter=0\n",
        "            while iter<self.__groups:\n",
        "                self.centers.append(((random.randrange(0, 255)*1.0/255),\n",
        "                                     (random.randrange(0, 255)*1.0/255),\n",
        "                                     (random.randrange(0, 255)*1.0/255)))\n",
        "                iter=iter+1\n",
        "\n",
        "    def calculate_distance(self, x, v):\n",
        "        return sqrt((x[0]-v[0])**2+(x[1]-v[1])**2+(x[2]-v[2])**2)\n",
        "\n",
        "    def calculate_u(self, x, i):\n",
        "        smallest_distance = float(self.calculate_distance(x, self.centers[0]))\n",
        "        smallest_id = 0\n",
        "        for i in range(1, self.__groups):\n",
        "            distance = self.calculate_distance(x, self.centers[i])\n",
        "            if distance < smallest_distance:\n",
        "                smallest_id = i\n",
        "                smallest_distance = distance\n",
        "        distance = np.zeros(self.__groups)\n",
        "        distance[smallest_id]=1\n",
        "        return distance\n",
        "\n",
        "    def calculate_new_centers(self, u):\n",
        "        new_centers=[]\n",
        "        for c in range(self.__groups):\n",
        "            u_x_vector = np.zeros(len(self.centers[0]))\n",
        "            u_scalar = 0\n",
        "            for i in range(len(u)):\n",
        "                u_scalar = u_scalar + u[i][c]\n",
        "                u_x_vector = np.add(u_x_vector, np.multiply(u[i][c], self.__data_set[i]))\n",
        "            new_centers.append(np.divide(u_x_vector,u_scalar))\n",
        "        self.centers = new_centers\n",
        "\n",
        "    def calculate_differences(self,new_assignation):\n",
        "        diff=0\n",
        "        for i in range(len(self.assignation)):\n",
        "            for j in range(self.__groups):\n",
        "                diff = diff + abs(float(new_assignation[i][j]) - float(self.assignation[i][j]))\n",
        "        return diff\n",
        "\n",
        "    def do_segmentation(self):\n",
        "        difference_limit_not_achieved = True\n",
        "        iter = 0\n",
        "        while difference_limit_not_achieved:\n",
        "            new_assignation = []\n",
        "            for i in range(len(self.__data_set)):\n",
        "                new_assignation.append(self.calculate_u(self.__data_set[i], iter))\n",
        "            self.calculate_new_centers(new_assignation)\n",
        "\n",
        "            if iter > 0:\n",
        "                if self.calculate_differences(new_assignation) < self.__error_margin:\n",
        "                    difference_limit_not_achieved=False\n",
        "            self.assignation = new_assignation\n",
        "            iter = iter + 1\n",
        "\n",
        "    def get_results(self):\n",
        "        return self.centers, self.assignation"
      ]
    },
    {
      "cell_type": "markdown",
      "metadata": {
        "id": "yXgXQZlkjsmq"
      },
      "source": [
        "### Change ``save_image`` method\n",
        "\n",
        "Add an if statement in the code below. It should consider the change of ``current_pixel`` variable. Please keep in mind that there should be three states considered."
      ]
    },
    {
      "cell_type": "code",
      "execution_count": 22,
      "metadata": {
        "id": "N1s-gekxjsmq"
      },
      "outputs": [],
      "source": [
        "class ImageConversion:\n",
        "\n",
        "    def get_image_from_url(self, img_url):\n",
        "        image = open(img_url,'rb')\n",
        "        return img.imread(image)\n",
        "\n",
        "    def get_unique_colours(self, image_matrix):\n",
        "        feature_matrix = []\n",
        "        for i in range(len(image_matrix)):\n",
        "            for j in range(len(image_matrix[0])):\n",
        "                feature_matrix.append(image_matrix[i, j])\n",
        "        feature_matrix_np = np.array(feature_matrix)\n",
        "        uniques, index = np.unique([str(i) for i in feature_matrix_np], return_index=True)\n",
        "        return feature_matrix_np[index], feature_matrix\n",
        "\n",
        "    def save_image(self, size, pixel_matrix, unique_matrix, assignation_matrix, colours, output):\n",
        "        image_out = Image.new(\"RGB\", size)\n",
        "        pixels = []\n",
        "        current_pixel = None\n",
        "        for i in range(len(pixel_matrix)):\n",
        "            pixel_list = pixel_matrix[i].tolist()\n",
        "            for j in range(len(unique_matrix)):\n",
        "                if (pixel_list == unique_matrix[j].tolist()):\n",
        "                    for k in range(len(colours)):\n",
        "                        if assignation_matrix[j][k] == 1:\n",
        "                            segmented_colours = [int(i) for i in (colours[k] * 255)]\n",
        "\n",
        "                            current_pixel = i\n",
        "                            left_pixel = assignation_matrix[np.where(np.all(unique_matrix == pixel_matrix[current_pixel - 1], axis=1))[0][0]]\n",
        "                            top_pixel = assignation_matrix[np.where(np.all(unique_matrix == pixel_matrix[current_pixel - size[0]], axis=1))[0][0]]\n",
        "                            top_left_pixel = assignation_matrix[np.where(np.all(unique_matrix == pixel_matrix[current_pixel - size[0] - 1], axis=1))[0][0]]\n",
        "\n",
        "                            a = np.array_equal(left_pixel, assignation_matrix[j])\n",
        "                            b = np.array_equal(top_pixel, assignation_matrix[j])\n",
        "                            c = np.array_equal(top_left_pixel, assignation_matrix[j])\n",
        "                            if not a or not b or not c:\n",
        "                                segmented_colours = (0, 0, 0)\n",
        "\n",
        "                            pixels.append(tuple(segmented_colours))\n",
        "\n",
        "        image_out.putdata(pixels)\n",
        "        image_out.save(output)\n"
      ]
    },
    {
      "cell_type": "markdown",
      "metadata": {
        "id": "jQh_Ud34jsmq"
      },
      "source": [
        "Execute segmentation without any changes:"
      ]
    },
    {
      "cell_type": "code",
      "execution_count": 24,
      "metadata": {
        "id": "oawnMkgFjsmq"
      },
      "outputs": [],
      "source": [
        "image_to_segment = \"images/logo_krakow.png\"\n",
        "image_converter = ImageConversion()\n",
        "image_data = image_converter.get_image_from_url(image_to_segment)\n",
        "unique_image_data, image_data_list = image_converter.get_unique_colours(image_data)\n",
        "\n",
        "groups = 3\n",
        "\n",
        "if image_data.shape[2] > 3:\n",
        "    image_data = image_data[:,:,[0,1,2]]\n",
        "    unique_image_data = unique_image_data[:,[0,1,2]]\n",
        "    image_data_list = numpy.array(image_data_list)[:,[0,1,2]]\n",
        "\n",
        "segmentation = Segmentation(unique_image_data, groups)\n",
        "segmentation.do_segmentation()\n",
        "centers, assignation_matrix = segmentation.get_results()\n",
        "\n",
        "image_size = (232, 258)\n",
        "image_converter.save_image(image_size, image_data_list, unique_image_data, assignation_matrix, centers, \"images/segmented.png\")"
      ]
    },
    {
      "cell_type": "markdown",
      "metadata": {
        "id": "fWibr6rvjsmq"
      },
      "source": [
        "The image should have black broders between one and the other segment."
      ]
    },
    {
      "cell_type": "code",
      "execution_count": 25,
      "metadata": {
        "id": "6A1qcDfijsmr",
        "colab": {
          "base_uri": "https://localhost:8080/",
          "height": 275
        },
        "outputId": "cf690366-a6a6-447a-d864-a6e5e886d543"
      },
      "outputs": [
        {
          "output_type": "execute_result",
          "data": {
            "image/png": "[encoded data removed]",
            "text/plain": [
              "<IPython.core.display.Image object>"
            ]
          },
          "metadata": {},
          "execution_count": 25
        }
      ],
      "source": [
        "from IPython.display import Image\n",
        "Image(\"images/segmented.png\")"
      ]
    }
  ],
  "metadata": {
    "kernelspec": {
      "display_name": "Python 3 (ipykernel)",
      "language": "python",
      "name": "python3"
    },
    "language_info": {
      "codemirror_mode": {
        "name": "ipython",
        "version": 3
      },
      "file_extension": ".py",
      "mimetype": "text/x-python",
      "name": "python",
      "nbconvert_exporter": "python",
      "pygments_lexer": "ipython3",
      "version": "3.9.13"
    },
    "colab": {
      "provenance": []
    }
  },
  "nbformat": 4,
  "nbformat_minor": 0
}